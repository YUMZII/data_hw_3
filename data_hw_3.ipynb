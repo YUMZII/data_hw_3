{
 "cells": [
  {
   "cell_type": "code",
   "execution_count": 2,
   "id": "c03690cd",
   "metadata": {},
   "outputs": [
    {
     "name": "stdout",
     "output_type": "stream",
     "text": [
      "Average price is 31.875\n"
     ]
    }
   ],
   "source": [
    "# 가격과 헤어스타일, 구매 횟수\n",
    "hairstyles = [\"bouffant\", \"pixie\", \"dreadlocks\", \"crew\", \"bowl\", \"bob\", \"mohawk\", \"flattop\"]\n",
    "prices = [30, 25, 40, 20, 20, 35, 50, 35]\n",
    "last_week = [2, 3, 5, 8, 4, 4, 6, 2]\n",
    "\n",
    "# 평균 구하기\n",
    "total_price = 0\n",
    "for price in prices:\n",
    "    total_price += price\n",
    "\n",
    "average_price = total_price / len(prices)\n",
    "print(\"Average price \", average_price)"
   ]
  },
  {
   "cell_type": "code",
   "execution_count": 5,
   "id": "d5169297",
   "metadata": {},
   "outputs": [
    {
     "name": "stdout",
     "output_type": "stream",
     "text": [
      "prices minus 5  [25, 20, 35, 15, 15, 30, 45, 30]\n"
     ]
    }
   ],
   "source": [
    "# 5달러 낮추기\n",
    "new_prices = [price - 5 for price in prices]\n",
    "print(\"prices minus 5 \",new_prices)"
   ]
  },
  {
   "cell_type": "code",
   "execution_count": 6,
   "id": "2571901c",
   "metadata": {},
   "outputs": [
    {
     "name": "stdout",
     "output_type": "stream",
     "text": [
      "Average daily revenue  155.0\n"
     ]
    }
   ],
   "source": [
    "# 지난 주 수익\n",
    "total_revenue = 0\n",
    "for i in range(len(hairstyles)):\n",
    "    total_revenue += prices[i] * last_week[i]\n",
    "\n",
    "average_daily_revenue = total_revenue / 7\n",
    "print(\"Average daily revenue \", average_daily_revenue)"
   ]
  },
  {
   "cell_type": "code",
   "execution_count": 7,
   "id": "d098d426",
   "metadata": {},
   "outputs": [
    {
     "name": "stdout",
     "output_type": "stream",
     "text": [
      "['bouffant', 'pixie', 'crew', 'bowl']\n"
     ]
    }
   ],
   "source": [
    "# 30달러 미만\n",
    "cuts_under_30 = [hairstyles[i] for i in range(len(new_prices)) if new_prices[i] < 30]\n",
    "print(cuts_under_30)"
   ]
  }
 ],
 "metadata": {
  "kernelspec": {
   "display_name": "Python 3 (ipykernel)",
   "language": "python",
   "name": "python3"
  },
  "language_info": {
   "codemirror_mode": {
    "name": "ipython",
    "version": 3
   },
   "file_extension": ".py",
   "mimetype": "text/x-python",
   "name": "python",
   "nbconvert_exporter": "python",
   "pygments_lexer": "ipython3",
   "version": "3.11.4"
  }
 },
 "nbformat": 4,
 "nbformat_minor": 5
}
